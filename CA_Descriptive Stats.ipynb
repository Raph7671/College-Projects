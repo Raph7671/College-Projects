{
 "cells": [
  {
   "cell_type": "markdown",
   "id": "7d4bf55a",
   "metadata": {},
   "source": [
    "## Introduction\n",
    "        This report gives a small overview of descriptive analysis through research, practical questions,\n",
    "        and application of descriptive analysis with a data set in JupyterNotebook.\n",
    "        The purpose of the three sections of this analysis is to better understand Descriptive Analysis and\n",
    "        measures of central tendency and measures of variability (spread) and apply them to a data set to\n",
    "        perform analysis."
   ]
  },
  {
   "cell_type": "markdown",
   "id": "924528cf",
   "metadata": {},
   "source": [
    "## First Section: Research\n",
    "        • Is the following statement true? Justify carrying out research and use appropriate references to \n",
    "        support your answer:\n",
    "        \n",
    "“If a dataset has mean=median=mode, we can ensure that the dataset follows a Symmetric Distribution. In \n",
    "addition, every time that a dataset follows a Symmetric Distribution, that means that \n",
    "mean=median=mode”."
   ]
  },
  {
   "cell_type": "code",
   "execution_count": 1,
   "id": "69c46cd6",
   "metadata": {
    "ExecuteTime": {
     "end_time": "2023-01-10T15:36:38.895276Z",
     "start_time": "2023-01-10T15:36:36.660833Z"
    }
   },
   "outputs": [],
   "source": [
    "#uploading libraries and dataset\n",
    "\n",
    "import numpy as np\n",
    "import pandas as pd\n",
    "import matplotlib.pyplot as plt\n",
    "import seaborn as sns\n",
    "Products_data = pd.read_csv('data/Products.csv')\n",
    "Products_databi = pd.read_csv('data/Products_Bimodal.csv')"
   ]
  },
  {
   "cell_type": "code",
   "execution_count": 2,
   "id": "aa7b2874",
   "metadata": {
    "ExecuteTime": {
     "end_time": "2023-01-10T15:36:38.910280Z",
     "start_time": "2023-01-10T15:36:38.897277Z"
    },
    "scrolled": true
   },
   "outputs": [
    {
     "data": {
      "text/html": [
       "<div>\n",
       "<style scoped>\n",
       "    .dataframe tbody tr th:only-of-type {\n",
       "        vertical-align: middle;\n",
       "    }\n",
       "\n",
       "    .dataframe tbody tr th {\n",
       "        vertical-align: top;\n",
       "    }\n",
       "\n",
       "    .dataframe thead th {\n",
       "        text-align: right;\n",
       "    }\n",
       "</style>\n",
       "<table border=\"1\" class=\"dataframe\">\n",
       "  <thead>\n",
       "    <tr style=\"text-align: right;\">\n",
       "      <th></th>\n",
       "      <th>Product</th>\n",
       "      <th>Price</th>\n",
       "    </tr>\n",
       "  </thead>\n",
       "  <tbody>\n",
       "    <tr>\n",
       "      <th>0</th>\n",
       "      <td>Shampoo</td>\n",
       "      <td>1</td>\n",
       "    </tr>\n",
       "    <tr>\n",
       "      <th>1</th>\n",
       "      <td>Soap Bar</td>\n",
       "      <td>2</td>\n",
       "    </tr>\n",
       "    <tr>\n",
       "      <th>2</th>\n",
       "      <td>Sponge</td>\n",
       "      <td>3</td>\n",
       "    </tr>\n",
       "    <tr>\n",
       "      <th>3</th>\n",
       "      <td>Toothpaste</td>\n",
       "      <td>4</td>\n",
       "    </tr>\n",
       "    <tr>\n",
       "      <th>4</th>\n",
       "      <td>Face Wash</td>\n",
       "      <td>4</td>\n",
       "    </tr>\n",
       "    <tr>\n",
       "      <th>5</th>\n",
       "      <td>Face Cream</td>\n",
       "      <td>5</td>\n",
       "    </tr>\n",
       "    <tr>\n",
       "      <th>6</th>\n",
       "      <td>Lotion</td>\n",
       "      <td>6</td>\n",
       "    </tr>\n",
       "    <tr>\n",
       "      <th>7</th>\n",
       "      <td>Toothbrush</td>\n",
       "      <td>7</td>\n",
       "    </tr>\n",
       "  </tbody>\n",
       "</table>\n",
       "</div>"
      ],
      "text/plain": [
       "      Product  Price\n",
       "0     Shampoo      1\n",
       "1    Soap Bar      2\n",
       "2      Sponge      3\n",
       "3  Toothpaste      4\n",
       "4   Face Wash      4\n",
       "5  Face Cream      5\n",
       "6      Lotion      6\n",
       "7  Toothbrush      7"
      ]
     },
     "execution_count": 2,
     "metadata": {},
     "output_type": "execute_result"
    }
   ],
   "source": [
    "Products_data.head(8)"
   ]
  },
  {
   "cell_type": "code",
   "execution_count": 3,
   "id": "833208be",
   "metadata": {
    "ExecuteTime": {
     "end_time": "2023-01-10T15:36:38.926283Z",
     "start_time": "2023-01-10T15:36:38.913281Z"
    }
   },
   "outputs": [
    {
     "name": "stdout",
     "output_type": "stream",
     "text": [
      "4.0\n",
      "4.0\n",
      "0    4\n",
      "dtype: int64\n"
     ]
    }
   ],
   "source": [
    "mean1 = Products_data[\"Price\"].mean()\n",
    "mode1 = Products_data[\"Price\"].mode()\n",
    "median1 = Products_data[\"Price\"].median()\n",
    "print(mean1)\n",
    "print(median1)\n",
    "print(mode1)"
   ]
  },
  {
   "cell_type": "markdown",
   "id": "964c6096",
   "metadata": {},
   "source": [
    "        \n",
    "        When a dataset has the same mean, median and mode values we can conclude that the dataset follows a \n",
    "        normal symmetrical distribution (unimodal). [1, 3, 4, 5, 6]"
   ]
  },
  {
   "cell_type": "code",
   "execution_count": 4,
   "id": "e5418a8a",
   "metadata": {
    "ExecuteTime": {
     "end_time": "2023-01-10T15:36:39.114326Z",
     "start_time": "2023-01-10T15:36:38.928286Z"
    }
   },
   "outputs": [
    {
     "data": {
      "text/plain": [
       "<seaborn.axisgrid.FacetGrid at 0x2472de7a1c0>"
      ]
     },
     "execution_count": 4,
     "metadata": {},
     "output_type": "execute_result"
    },
    {
     "data": {
      "image/png": "[encoded data removed]",
      "text/plain": [
       "<Figure size 360x360 with 1 Axes>"
      ]
     },
     "metadata": {
      "needs_background": "light"
     },
     "output_type": "display_data"
    }
   ],
   "source": [
    "sns.displot(Products_data['Price'], kde=True, discrete=True )"
   ]
  },
  {
   "cell_type": "markdown",
   "id": "1f61919b",
   "metadata": {},
   "source": [
    "(Figure 1: The normal distribution shown in this plot has a mean of 4, mode of 4 and median 4)."
   ]
  },
  {
   "cell_type": "markdown",
   "id": "1e6b745d",
   "metadata": {},
   "source": [
    "    But in the other hand, if a dataset follows a Symmetric Distribution does not mean that the Dataset has the \n",
    "    mean, median and mode equally because the dataset can be two modes (bimodal) or multimodal sample\n",
    "    where the two modes or the multi modes would be different from the mean and median and in such cases,\n",
    "    you may report the mean or median as appropriate. [3, 6]"
   ]
  },
  {
   "cell_type": "code",
   "execution_count": 5,
   "id": "20d1be32",
   "metadata": {
    "ExecuteTime": {
     "end_time": "2023-01-10T15:36:39.129330Z",
     "start_time": "2023-01-10T15:36:39.116335Z"
    }
   },
   "outputs": [
    {
     "data": {
      "text/html": [
       "<div>\n",
       "<style scoped>\n",
       "    .dataframe tbody tr th:only-of-type {\n",
       "        vertical-align: middle;\n",
       "    }\n",
       "\n",
       "    .dataframe tbody tr th {\n",
       "        vertical-align: top;\n",
       "    }\n",
       "\n",
       "    .dataframe thead th {\n",
       "        text-align: right;\n",
       "    }\n",
       "</style>\n",
       "<table border=\"1\" class=\"dataframe\">\n",
       "  <thead>\n",
       "    <tr style=\"text-align: right;\">\n",
       "      <th></th>\n",
       "      <th>Product</th>\n",
       "      <th>Price</th>\n",
       "    </tr>\n",
       "  </thead>\n",
       "  <tbody>\n",
       "    <tr>\n",
       "      <th>0</th>\n",
       "      <td>Shampoo</td>\n",
       "      <td>1.0</td>\n",
       "    </tr>\n",
       "    <tr>\n",
       "      <th>1</th>\n",
       "      <td>Soap Bar</td>\n",
       "      <td>2.0</td>\n",
       "    </tr>\n",
       "    <tr>\n",
       "      <th>2</th>\n",
       "      <td>Sponge</td>\n",
       "      <td>3.0</td>\n",
       "    </tr>\n",
       "    <tr>\n",
       "      <th>3</th>\n",
       "      <td>Toothpaste</td>\n",
       "      <td>4.0</td>\n",
       "    </tr>\n",
       "    <tr>\n",
       "      <th>4</th>\n",
       "      <td>Face Wash</td>\n",
       "      <td>4.0</td>\n",
       "    </tr>\n",
       "    <tr>\n",
       "      <th>5</th>\n",
       "      <td>Face Cream</td>\n",
       "      <td>5.0</td>\n",
       "    </tr>\n",
       "    <tr>\n",
       "      <th>6</th>\n",
       "      <td>Lotion</td>\n",
       "      <td>6.0</td>\n",
       "    </tr>\n",
       "    <tr>\n",
       "      <th>7</th>\n",
       "      <td>Cups</td>\n",
       "      <td>7.0</td>\n",
       "    </tr>\n",
       "    <tr>\n",
       "      <th>8</th>\n",
       "      <td>Toothbrush</td>\n",
       "      <td>7.0</td>\n",
       "    </tr>\n",
       "    <tr>\n",
       "      <th>9</th>\n",
       "      <td>Hair Conditioner</td>\n",
       "      <td>8.0</td>\n",
       "    </tr>\n",
       "    <tr>\n",
       "      <th>10</th>\n",
       "      <td>Toilet Paper</td>\n",
       "      <td>9.0</td>\n",
       "    </tr>\n",
       "    <tr>\n",
       "      <th>11</th>\n",
       "      <td>Towel</td>\n",
       "      <td>10.0</td>\n",
       "    </tr>\n",
       "  </tbody>\n",
       "</table>\n",
       "</div>"
      ],
      "text/plain": [
       "             Product  Price\n",
       "0            Shampoo    1.0\n",
       "1           Soap Bar    2.0\n",
       "2             Sponge    3.0\n",
       "3         Toothpaste    4.0\n",
       "4          Face Wash    4.0\n",
       "5         Face Cream    5.0\n",
       "6             Lotion    6.0\n",
       "7               Cups    7.0\n",
       "8         Toothbrush    7.0\n",
       "9   Hair Conditioner    8.0\n",
       "10      Toilet Paper    9.0\n",
       "11             Towel   10.0"
      ]
     },
     "execution_count": 5,
     "metadata": {},
     "output_type": "execute_result"
    }
   ],
   "source": [
    "Products_databi.head(12)"
   ]
  },
  {
   "cell_type": "code",
   "execution_count": 6,
   "id": "d6543b7a",
   "metadata": {
    "ExecuteTime": {
     "end_time": "2023-01-10T15:36:39.145335Z",
     "start_time": "2023-01-10T15:36:39.130330Z"
    }
   },
   "outputs": [
    {
     "name": "stdout",
     "output_type": "stream",
     "text": [
      "5.5\n",
      "5.5\n",
      "0    4.0\n",
      "1    7.0\n",
      "dtype: float64\n"
     ]
    }
   ],
   "source": [
    "average2 = Products_databi[\"Price\"].mean()\n",
    "middlePoint2 = Products_databi[\"Price\"].median()\n",
    "mode2 = Products_databi[\"Price\"].mode()\n",
    "print(middlePoint2)\n",
    "print(average2)\n",
    "print(mode2)"
   ]
  },
  {
   "cell_type": "code",
   "execution_count": 7,
   "id": "36b8df80",
   "metadata": {
    "ExecuteTime": {
     "end_time": "2023-01-10T15:36:39.298368Z",
     "start_time": "2023-01-10T15:36:39.146336Z"
    }
   },
   "outputs": [
    {
     "data": {
      "text/plain": [
       "<seaborn.axisgrid.FacetGrid at 0x2472de7a460>"
      ]
     },
     "execution_count": 7,
     "metadata": {},
     "output_type": "execute_result"
    },
    {
     "data": {
      "image/png": "[encoded data removed]",
      "text/plain": [
       "<Figure size 360x360 with 1 Axes>"
      ]
     },
     "metadata": {
      "needs_background": "light"
     },
     "output_type": "display_data"
    }
   ],
   "source": [
    "sns.displot(Products_databi['Price'], kde=True, discrete=True ) "
   ]
  },
  {
   "cell_type": "markdown",
   "id": "a40c0379",
   "metadata": {},
   "source": [
    "(Figure 2: The normal distribution shown in this plot has a mean of 5.5, mode of 4 and 7 and median 5.5)."
   ]
  },
  {
   "cell_type": "markdown",
   "id": "70d99e04",
   "metadata": {},
   "source": [
    "## Second Section: Practical Questions\n",
    "    Answer the following questions based on this bar chart which plots the variable “track_artist” from the \n",
    "    dataframe = data_spotify. You must justify all your answers with appropriate statistical concepts and if you \n",
    "    carried out research, you must provide appropriate references."
   ]
  },
  {
   "cell_type": "code",
   "execution_count": 8,
   "id": "c5f19baf",
   "metadata": {
    "ExecuteTime": {
     "end_time": "2023-01-10T15:36:40.158601Z",
     "start_time": "2023-01-10T15:36:39.299368Z"
    }
   },
   "outputs": [],
   "source": [
    "data_spotify = pd.read_csv('https://raw.githubusercontent.com/rfordatascience/tidytuesday/master/data/2020/2020-01-21/spotify_songs.csv')"
   ]
  },
  {
   "cell_type": "code",
   "execution_count": 9,
   "id": "3a47976d",
   "metadata": {
    "ExecuteTime": {
     "end_time": "2023-01-10T15:36:40.286161Z",
     "start_time": "2023-01-10T15:36:40.162600Z"
    },
    "scrolled": true
   },
   "outputs": [
    {
     "data": {
      "text/plain": [
       "<AxesSubplot:xlabel='count', ylabel='track_artist'>"
      ]
     },
     "execution_count": 9,
     "metadata": {},
     "output_type": "execute_result"
    },
    {
     "data": {
      "image/png": "[encoded data removed]",
      "text/plain": [
       "<Figure size 432x288 with 1 Axes>"
      ]
     },
     "metadata": {
      "needs_background": "light"
     },
     "output_type": "display_data"
    }
   ],
   "source": [
    "sns.countplot(y=\"track_artist\", data=data_spotify.iloc[0:10])"
   ]
  },
  {
   "cell_type": "markdown",
   "id": "3132d8db",
   "metadata": {},
   "source": [
    "A. Can we deduce that there are only 8 different track artists in our entire dataset?\n",
    "    \n",
    "    No. We can not deduce that there are only 8 different track artists as the .iloc[ ] indexer was used to select \n",
    "    the entire column and only the first 10 rows of the dataset.\n",
    "\n",
    "B. In the range analysed, can we deduce there is a unique mode?\n",
    "        \n",
    "    Yes. In the range analysed and represented on the bar chart we clearly can see that we have only one mode\n",
    "    as “Ed Sheeran” is the most frequent in the range that was selected to be analysed.\n",
    "C. Is it true that in the range analysed the mode has a value of 2?\n",
    "\n",
    "    No. It represents the frecquency, not the value.\n",
    "\n",
    "D. How many data elements there are in the range analysed?\n",
    "\n",
    "    In the analysed range contains 10 elements.\n",
    "\n",
    "E. In this plot, the horizontal axis represents the mode.\n",
    "\n",
    "    No, the horizontal axis represents the counts of observation in the categorical variable, in other words, the \n",
    "    horizontal axis is showing how many times the elements appear.\n"
   ]
  },
  {
   "cell_type": "markdown",
   "id": "d85115ec",
   "metadata": {},
   "source": [
    "## Third Section: Descriptive stats & Dataset"
   ]
  },
  {
   "cell_type": "markdown",
   "id": "ed6b98d2",
   "metadata": {},
   "source": [
    "### Introduction of the Data set\n",
    "The data set that I choose to deal with is a data set containing thousands of games with their names, the \n",
    "number of Sales in North America (NA) Europe (EU), Japan (JP), Others (Rest of the World), and Global Sales \n",
    "(Total worldwide), Year of release, Genre, Platforms were the games released and Publisher of the Game.\n",
    "\n",
    "I chose this data set as a fan of games and because the game industry is growing enormously.\n",
    "According to the latest Accenture (NYSE: ACN) report, it is estimated that the total value of the games \n",
    "industry now exceeds $300 billion.[2]"
   ]
  },
  {
   "attachments": {
    "image.png": {
     "image/png": "[encoded data removed]"
    }
   },
   "cell_type": "markdown",
   "id": "8a4bcf56",
   "metadata": {},
   "source": [
    "## Data Dictionary\n",
    "![image.png](attachment:image.png)"
   ]
  },
  {
   "cell_type": "markdown",
   "id": "a5750dd1",
   "metadata": {},
   "source": [
    "### Importing Data and Data Review\n",
    "\n",
    "    Importing and checking all the information about the content in my dataset, (Data type) of each of \n",
    "    columns, memory that the Data frame occupies, number of rows, columns, memory usage."
   ]
  },
  {
   "cell_type": "code",
   "execution_count": 10,
   "id": "2485675d",
   "metadata": {
    "ExecuteTime": {
     "end_time": "2023-01-10T15:36:41.474862Z",
     "start_time": "2023-01-10T15:36:40.288147Z"
    }
   },
   "outputs": [],
   "source": [
    "import pandas as pd\n",
    "import numpy as np\n",
    "import random\n",
    "import time\n",
    "import seaborn as sns\n",
    "import matplotlib.pyplot as plt\n",
    "import statsmodels.api as sm\n",
    "%matplotlib inline"
   ]
  },
  {
   "cell_type": "code",
   "execution_count": 11,
   "id": "931a1b9b",
   "metadata": {
    "ExecuteTime": {
     "end_time": "2023-01-10T15:36:41.520849Z",
     "start_time": "2023-01-10T15:36:41.477839Z"
    }
   },
   "outputs": [],
   "source": [
    "games_df = pd.read_csv(\"data/games.csv\")"
   ]
  },
  {
   "cell_type": "code",
   "execution_count": 12,
   "id": "77163d13",
   "metadata": {
    "ExecuteTime": {
     "end_time": "2023-01-10T15:36:41.536855Z",
     "start_time": "2023-01-10T15:36:41.522848Z"
    }
   },
   "outputs": [
    {
     "name": "stdout",
     "output_type": "stream",
     "text": [
      "<class 'pandas.core.frame.DataFrame'>\n",
      "RangeIndex: 16597 entries, 0 to 16596\n",
      "Data columns (total 11 columns):\n",
      " #   Column        Non-Null Count  Dtype  \n",
      "---  ------        --------------  -----  \n",
      " 0   Rank          16597 non-null  int64  \n",
      " 1   Name          16597 non-null  object \n",
      " 2   Platform      16597 non-null  object \n",
      " 3   Year          16338 non-null  float64\n",
      " 4   Genre         16597 non-null  object \n",
      " 5   Publisher     16597 non-null  object \n",
      " 6   NA_Sales      16597 non-null  float64\n",
      " 7   EU_Sales      16597 non-null  float64\n",
      " 8   JP_Sales      16597 non-null  float64\n",
      " 9   Other_Sales   16597 non-null  float64\n",
      " 10  Global_Sales  16597 non-null  float64\n",
      "dtypes: float64(6), int64(1), object(4)\n",
      "memory usage: 1.4+ MB\n"
     ]
    }
   ],
   "source": [
    "games_df.info()"
   ]
  },
  {
   "cell_type": "code",
   "execution_count": 13,
   "id": "88b3a889",
   "metadata": {
    "ExecuteTime": {
     "end_time": "2023-01-10T15:36:41.569044Z",
     "start_time": "2023-01-10T15:36:41.537852Z"
    }
   },
   "outputs": [
    {
     "data": {
      "text/html": [
       "<div>\n",
       "<style scoped>\n",
       "    .dataframe tbody tr th:only-of-type {\n",
       "        vertical-align: middle;\n",
       "    }\n",
       "\n",
       "    .dataframe tbody tr th {\n",
       "        vertical-align: top;\n",
       "    }\n",
       "\n",
       "    .dataframe thead th {\n",
       "        text-align: right;\n",
       "    }\n",
       "</style>\n",
       "<table border=\"1\" class=\"dataframe\">\n",
       "  <thead>\n",
       "    <tr style=\"text-align: right;\">\n",
       "      <th></th>\n",
       "      <th>Rank</th>\n",
       "      <th>Name</th>\n",
       "      <th>Platform</th>\n",
       "      <th>Year</th>\n",
       "      <th>Genre</th>\n",
       "      <th>Publisher</th>\n",
       "      <th>NA_Sales</th>\n",
       "      <th>EU_Sales</th>\n",
       "      <th>JP_Sales</th>\n",
       "      <th>Other_Sales</th>\n",
       "      <th>Global_Sales</th>\n",
       "    </tr>\n",
       "  </thead>\n",
       "  <tbody>\n",
       "    <tr>\n",
       "      <th>0</th>\n",
       "      <td>1</td>\n",
       "      <td>Wii Sports</td>\n",
       "      <td>Wii</td>\n",
       "      <td>2006.0</td>\n",
       "      <td>Sports</td>\n",
       "      <td>Nintendo</td>\n",
       "      <td>41.49</td>\n",
       "      <td>29.02</td>\n",
       "      <td>3.77</td>\n",
       "      <td>8.46</td>\n",
       "      <td>82.74</td>\n",
       "    </tr>\n",
       "    <tr>\n",
       "      <th>1</th>\n",
       "      <td>2</td>\n",
       "      <td>Super Mario Bros.</td>\n",
       "      <td>NES</td>\n",
       "      <td>1985.0</td>\n",
       "      <td>Platform</td>\n",
       "      <td>Nintendo</td>\n",
       "      <td>29.08</td>\n",
       "      <td>3.58</td>\n",
       "      <td>6.81</td>\n",
       "      <td>0.77</td>\n",
       "      <td>40.24</td>\n",
       "    </tr>\n",
       "    <tr>\n",
       "      <th>2</th>\n",
       "      <td>3</td>\n",
       "      <td>Mario Kart Wii</td>\n",
       "      <td>Wii</td>\n",
       "      <td>2008.0</td>\n",
       "      <td>Racing</td>\n",
       "      <td>Nintendo</td>\n",
       "      <td>15.85</td>\n",
       "      <td>12.88</td>\n",
       "      <td>3.79</td>\n",
       "      <td>3.31</td>\n",
       "      <td>35.82</td>\n",
       "    </tr>\n",
       "    <tr>\n",
       "      <th>3</th>\n",
       "      <td>4</td>\n",
       "      <td>Wii Sports Resort</td>\n",
       "      <td>Wii</td>\n",
       "      <td>2009.0</td>\n",
       "      <td>Sports</td>\n",
       "      <td>Nintendo</td>\n",
       "      <td>15.75</td>\n",
       "      <td>11.01</td>\n",
       "      <td>3.28</td>\n",
       "      <td>2.96</td>\n",
       "      <td>33.00</td>\n",
       "    </tr>\n",
       "    <tr>\n",
       "      <th>4</th>\n",
       "      <td>5</td>\n",
       "      <td>Pokemon Red/Pokemon Blue</td>\n",
       "      <td>GB</td>\n",
       "      <td>1996.0</td>\n",
       "      <td>Role-Playing</td>\n",
       "      <td>Nintendo</td>\n",
       "      <td>11.27</td>\n",
       "      <td>8.89</td>\n",
       "      <td>10.22</td>\n",
       "      <td>1.00</td>\n",
       "      <td>31.37</td>\n",
       "    </tr>\n",
       "    <tr>\n",
       "      <th>...</th>\n",
       "      <td>...</td>\n",
       "      <td>...</td>\n",
       "      <td>...</td>\n",
       "      <td>...</td>\n",
       "      <td>...</td>\n",
       "      <td>...</td>\n",
       "      <td>...</td>\n",
       "      <td>...</td>\n",
       "      <td>...</td>\n",
       "      <td>...</td>\n",
       "      <td>...</td>\n",
       "    </tr>\n",
       "    <tr>\n",
       "      <th>16592</th>\n",
       "      <td>16596</td>\n",
       "      <td>Woody Woodpecker in Crazy Castle 5</td>\n",
       "      <td>GBA</td>\n",
       "      <td>2002.0</td>\n",
       "      <td>Platform</td>\n",
       "      <td>Kemco</td>\n",
       "      <td>0.01</td>\n",
       "      <td>0.00</td>\n",
       "      <td>0.00</td>\n",
       "      <td>0.00</td>\n",
       "      <td>0.01</td>\n",
       "    </tr>\n",
       "    <tr>\n",
       "      <th>16593</th>\n",
       "      <td>16597</td>\n",
       "      <td>Men in Black II: Alien Escape</td>\n",
       "      <td>GC</td>\n",
       "      <td>2003.0</td>\n",
       "      <td>Shooter</td>\n",
       "      <td>Infogrames</td>\n",
       "      <td>0.01</td>\n",
       "      <td>0.00</td>\n",
       "      <td>0.00</td>\n",
       "      <td>0.00</td>\n",
       "      <td>0.01</td>\n",
       "    </tr>\n",
       "    <tr>\n",
       "      <th>16594</th>\n",
       "      <td>16598</td>\n",
       "      <td>SCORE International Baja 1000: The Official Game</td>\n",
       "      <td>PS2</td>\n",
       "      <td>2008.0</td>\n",
       "      <td>Racing</td>\n",
       "      <td>Activision</td>\n",
       "      <td>0.00</td>\n",
       "      <td>0.00</td>\n",
       "      <td>0.00</td>\n",
       "      <td>0.00</td>\n",
       "      <td>0.01</td>\n",
       "    </tr>\n",
       "    <tr>\n",
       "      <th>16595</th>\n",
       "      <td>16599</td>\n",
       "      <td>Know How 2</td>\n",
       "      <td>DS</td>\n",
       "      <td>2010.0</td>\n",
       "      <td>Puzzle</td>\n",
       "      <td>7G//AMES</td>\n",
       "      <td>0.00</td>\n",
       "      <td>0.01</td>\n",
       "      <td>0.00</td>\n",
       "      <td>0.00</td>\n",
       "      <td>0.01</td>\n",
       "    </tr>\n",
       "    <tr>\n",
       "      <th>16596</th>\n",
       "      <td>16600</td>\n",
       "      <td>Spirits &amp; Spells</td>\n",
       "      <td>GBA</td>\n",
       "      <td>2003.0</td>\n",
       "      <td>Platform</td>\n",
       "      <td>Wanadoo</td>\n",
       "      <td>0.01</td>\n",
       "      <td>0.00</td>\n",
       "      <td>0.00</td>\n",
       "      <td>0.00</td>\n",
       "      <td>0.01</td>\n",
       "    </tr>\n",
       "  </tbody>\n",
       "</table>\n",
       "<p>16597 rows × 11 columns</p>\n",
       "</div>"
      ],
      "text/plain": [
       "        Rank                                              Name Platform  \\\n",
       "0          1                                        Wii Sports      Wii   \n",
       "1          2                                 Super Mario Bros.      NES   \n",
       "2          3                                    Mario Kart Wii      Wii   \n",
       "3          4                                 Wii Sports Resort      Wii   \n",
       "4          5                          Pokemon Red/Pokemon Blue       GB   \n",
       "...      ...                                               ...      ...   \n",
       "16592  16596                Woody Woodpecker in Crazy Castle 5      GBA   \n",
       "16593  16597                     Men in Black II: Alien Escape       GC   \n",
       "16594  16598  SCORE International Baja 1000: The Official Game      PS2   \n",
       "16595  16599                                        Know How 2       DS   \n",
       "16596  16600                                  Spirits & Spells      GBA   \n",
       "\n",
       "         Year         Genre   Publisher  NA_Sales  EU_Sales  JP_Sales  \\\n",
       "0      2006.0        Sports    Nintendo     41.49     29.02      3.77   \n",
       "1      1985.0      Platform    Nintendo     29.08      3.58      6.81   \n",
       "2      2008.0        Racing    Nintendo     15.85     12.88      3.79   \n",
       "3      2009.0        Sports    Nintendo     15.75     11.01      3.28   \n",
       "4      1996.0  Role-Playing    Nintendo     11.27      8.89     10.22   \n",
       "...       ...           ...         ...       ...       ...       ...   \n",
       "16592  2002.0      Platform       Kemco      0.01      0.00      0.00   \n",
       "16593  2003.0       Shooter  Infogrames      0.01      0.00      0.00   \n",
       "16594  2008.0        Racing  Activision      0.00      0.00      0.00   \n",
       "16595  2010.0        Puzzle    7G//AMES      0.00      0.01      0.00   \n",
       "16596  2003.0      Platform     Wanadoo      0.01      0.00      0.00   \n",
       "\n",
       "       Other_Sales  Global_Sales  \n",
       "0             8.46         82.74  \n",
       "1             0.77         40.24  \n",
       "2             3.31         35.82  \n",
       "3             2.96         33.00  \n",
       "4             1.00         31.37  \n",
       "...            ...           ...  \n",
       "16592         0.00          0.01  \n",
       "16593         0.00          0.01  \n",
       "16594         0.00          0.01  \n",
       "16595         0.00          0.01  \n",
       "16596         0.00          0.01  \n",
       "\n",
       "[16597 rows x 11 columns]"
      ]
     },
     "execution_count": 13,
     "metadata": {},
     "output_type": "execute_result"
    }
   ],
   "source": [
    "games_df"
   ]
  },
  {
   "cell_type": "code",
   "execution_count": 14,
   "id": "593d833e",
   "metadata": {
    "ExecuteTime": {
     "end_time": "2023-01-10T15:36:41.584878Z",
     "start_time": "2023-01-10T15:36:41.570865Z"
    }
   },
   "outputs": [
    {
     "data": {
      "text/plain": [
       "Rank            16597\n",
       "Name            11492\n",
       "Platform           30\n",
       "Year               41\n",
       "Genre              12\n",
       "Publisher         581\n",
       "NA_Sales          409\n",
       "EU_Sales          305\n",
       "JP_Sales          244\n",
       "Other_Sales       157\n",
       "Global_Sales      623\n",
       "dtype: int64"
      ]
     },
     "execution_count": 14,
     "metadata": {},
     "output_type": "execute_result"
    }
   ],
   "source": [
    "games_df.nunique()"
   ]
  },
  {
   "cell_type": "code",
   "execution_count": 15,
   "id": "0f1bf166",
   "metadata": {
    "ExecuteTime": {
     "end_time": "2023-01-10T15:36:41.614869Z",
     "start_time": "2023-01-10T15:36:41.585872Z"
    },
    "scrolled": true
   },
   "outputs": [
    {
     "data": {
      "text/html": [
       "<div>\n",
       "<style scoped>\n",
       "    .dataframe tbody tr th:only-of-type {\n",
       "        vertical-align: middle;\n",
       "    }\n",
       "\n",
       "    .dataframe tbody tr th {\n",
       "        vertical-align: top;\n",
       "    }\n",
       "\n",
       "    .dataframe thead th {\n",
       "        text-align: right;\n",
       "    }\n",
       "</style>\n",
       "<table border=\"1\" class=\"dataframe\">\n",
       "  <thead>\n",
       "    <tr style=\"text-align: right;\">\n",
       "      <th></th>\n",
       "      <th>Rank</th>\n",
       "      <th>Year</th>\n",
       "      <th>NA_Sales</th>\n",
       "      <th>EU_Sales</th>\n",
       "      <th>JP_Sales</th>\n",
       "      <th>Other_Sales</th>\n",
       "      <th>Global_Sales</th>\n",
       "    </tr>\n",
       "  </thead>\n",
       "  <tbody>\n",
       "    <tr>\n",
       "      <th>count</th>\n",
       "      <td>16597.000000</td>\n",
       "      <td>16338.000000</td>\n",
       "      <td>16597.000000</td>\n",
       "      <td>16597.000000</td>\n",
       "      <td>16597.000000</td>\n",
       "      <td>16597.000000</td>\n",
       "      <td>16597.000000</td>\n",
       "    </tr>\n",
       "    <tr>\n",
       "      <th>mean</th>\n",
       "      <td>8300.149184</td>\n",
       "      <td>2006.402252</td>\n",
       "      <td>0.264683</td>\n",
       "      <td>0.146661</td>\n",
       "      <td>0.077785</td>\n",
       "      <td>0.048066</td>\n",
       "      <td>0.537472</td>\n",
       "    </tr>\n",
       "    <tr>\n",
       "      <th>std</th>\n",
       "      <td>4791.638040</td>\n",
       "      <td>5.837302</td>\n",
       "      <td>0.816705</td>\n",
       "      <td>0.505365</td>\n",
       "      <td>0.309300</td>\n",
       "      <td>0.188594</td>\n",
       "      <td>1.555070</td>\n",
       "    </tr>\n",
       "    <tr>\n",
       "      <th>min</th>\n",
       "      <td>1.000000</td>\n",
       "      <td>1977.000000</td>\n",
       "      <td>0.000000</td>\n",
       "      <td>0.000000</td>\n",
       "      <td>0.000000</td>\n",
       "      <td>0.000000</td>\n",
       "      <td>0.010000</td>\n",
       "    </tr>\n",
       "    <tr>\n",
       "      <th>25%</th>\n",
       "      <td>4151.000000</td>\n",
       "      <td>2003.000000</td>\n",
       "      <td>0.000000</td>\n",
       "      <td>0.000000</td>\n",
       "      <td>0.000000</td>\n",
       "      <td>0.000000</td>\n",
       "      <td>0.060000</td>\n",
       "    </tr>\n",
       "    <tr>\n",
       "      <th>50%</th>\n",
       "      <td>8300.000000</td>\n",
       "      <td>2007.000000</td>\n",
       "      <td>0.080000</td>\n",
       "      <td>0.020000</td>\n",
       "      <td>0.000000</td>\n",
       "      <td>0.010000</td>\n",
       "      <td>0.170000</td>\n",
       "    </tr>\n",
       "    <tr>\n",
       "      <th>75%</th>\n",
       "      <td>12449.000000</td>\n",
       "      <td>2010.000000</td>\n",
       "      <td>0.240000</td>\n",
       "      <td>0.110000</td>\n",
       "      <td>0.040000</td>\n",
       "      <td>0.040000</td>\n",
       "      <td>0.470000</td>\n",
       "    </tr>\n",
       "    <tr>\n",
       "      <th>max</th>\n",
       "      <td>16600.000000</td>\n",
       "      <td>2020.000000</td>\n",
       "      <td>41.490000</td>\n",
       "      <td>29.020000</td>\n",
       "      <td>10.220000</td>\n",
       "      <td>10.570000</td>\n",
       "      <td>82.740000</td>\n",
       "    </tr>\n",
       "  </tbody>\n",
       "</table>\n",
       "</div>"
      ],
      "text/plain": [
       "               Rank          Year      NA_Sales      EU_Sales      JP_Sales  \\\n",
       "count  16597.000000  16338.000000  16597.000000  16597.000000  16597.000000   \n",
       "mean    8300.149184   2006.402252      0.264683      0.146661      0.077785   \n",
       "std     4791.638040      5.837302      0.816705      0.505365      0.309300   \n",
       "min        1.000000   1977.000000      0.000000      0.000000      0.000000   \n",
       "25%     4151.000000   2003.000000      0.000000      0.000000      0.000000   \n",
       "50%     8300.000000   2007.000000      0.080000      0.020000      0.000000   \n",
       "75%    12449.000000   2010.000000      0.240000      0.110000      0.040000   \n",
       "max    16600.000000   2020.000000     41.490000     29.020000     10.220000   \n",
       "\n",
       "        Other_Sales  Global_Sales  \n",
       "count  16597.000000  16597.000000  \n",
       "mean       0.048066      0.537472  \n",
       "std        0.188594      1.555070  \n",
       "min        0.000000      0.010000  \n",
       "25%        0.000000      0.060000  \n",
       "50%        0.010000      0.170000  \n",
       "75%        0.040000      0.470000  \n",
       "max       10.570000     82.740000  "
      ]
     },
     "execution_count": 15,
     "metadata": {},
     "output_type": "execute_result"
    }
   ],
   "source": [
    "games_df.describe()"
   ]
  },
  {
   "cell_type": "markdown",
   "id": "607da0f3",
   "metadata": {},
   "source": [
    "### Preparing the Data Set to be Analyse\n",
    "\n",
    "    Checking if my data set is containing any missing values or duplicate that can affect my analyse and fixing \n",
    "    possible errors."
   ]
  },
  {
   "cell_type": "code",
   "execution_count": 16,
   "id": "b517f8f4",
   "metadata": {
    "ExecuteTime": {
     "end_time": "2023-01-10T15:36:41.629875Z",
     "start_time": "2023-01-10T15:36:41.616870Z"
    }
   },
   "outputs": [
    {
     "data": {
      "text/plain": [
       "Rank              0\n",
       "Name              0\n",
       "Platform          0\n",
       "Year            259\n",
       "Genre             0\n",
       "Publisher         0\n",
       "NA_Sales          0\n",
       "EU_Sales          0\n",
       "JP_Sales          0\n",
       "Other_Sales       0\n",
       "Global_Sales      0\n",
       "dtype: int64"
      ]
     },
     "execution_count": 16,
     "metadata": {},
     "output_type": "execute_result"
    }
   ],
   "source": [
    "games_df.isnull().sum()"
   ]
  },
  {
   "cell_type": "code",
   "execution_count": 17,
   "id": "e7a46ec5",
   "metadata": {
    "ExecuteTime": {
     "end_time": "2023-01-10T15:36:41.660879Z",
     "start_time": "2023-01-10T15:36:41.631876Z"
    }
   },
   "outputs": [
    {
     "data": {
      "text/plain": [
       "Rank            0\n",
       "Name            0\n",
       "Platform        0\n",
       "Year            0\n",
       "Genre           0\n",
       "Publisher       0\n",
       "NA_Sales        0\n",
       "EU_Sales        0\n",
       "JP_Sales        0\n",
       "Other_Sales     0\n",
       "Global_Sales    0\n",
       "dtype: int64"
      ]
     },
     "execution_count": 17,
     "metadata": {},
     "output_type": "execute_result"
    }
   ],
   "source": [
    "games_df.dropna(inplace=True)\n",
    "games_df.drop(games_df[games_df['Year']>2016].index, inplace=True)\n",
    "games_df.isnull().sum()"
   ]
  },
  {
   "cell_type": "code",
   "execution_count": 18,
   "id": "b7f083d6",
   "metadata": {
    "ExecuteTime": {
     "end_time": "2023-01-10T15:36:41.692894Z",
     "start_time": "2023-01-10T15:36:41.662881Z"
    }
   },
   "outputs": [
    {
     "data": {
      "text/html": [
       "<div>\n",
       "<style scoped>\n",
       "    .dataframe tbody tr th:only-of-type {\n",
       "        vertical-align: middle;\n",
       "    }\n",
       "\n",
       "    .dataframe tbody tr th {\n",
       "        vertical-align: top;\n",
       "    }\n",
       "\n",
       "    .dataframe thead th {\n",
       "        text-align: right;\n",
       "    }\n",
       "</style>\n",
       "<table border=\"1\" class=\"dataframe\">\n",
       "  <thead>\n",
       "    <tr style=\"text-align: right;\">\n",
       "      <th></th>\n",
       "      <th>Rank</th>\n",
       "      <th>Name</th>\n",
       "      <th>Platform</th>\n",
       "      <th>Year</th>\n",
       "      <th>Genre</th>\n",
       "      <th>Publisher</th>\n",
       "      <th>NA_Sales</th>\n",
       "      <th>EU_Sales</th>\n",
       "      <th>JP_Sales</th>\n",
       "      <th>Other_Sales</th>\n",
       "      <th>Global_Sales</th>\n",
       "    </tr>\n",
       "  </thead>\n",
       "  <tbody>\n",
       "    <tr>\n",
       "      <th>0</th>\n",
       "      <td>1</td>\n",
       "      <td>Wii Sports</td>\n",
       "      <td>Wii</td>\n",
       "      <td>2006.0</td>\n",
       "      <td>Sports</td>\n",
       "      <td>Nintendo</td>\n",
       "      <td>41.49</td>\n",
       "      <td>29.02</td>\n",
       "      <td>3.77</td>\n",
       "      <td>8.46</td>\n",
       "      <td>82.74</td>\n",
       "    </tr>\n",
       "    <tr>\n",
       "      <th>1</th>\n",
       "      <td>2</td>\n",
       "      <td>Super Mario Bros.</td>\n",
       "      <td>NES</td>\n",
       "      <td>1985.0</td>\n",
       "      <td>Platform</td>\n",
       "      <td>Nintendo</td>\n",
       "      <td>29.08</td>\n",
       "      <td>3.58</td>\n",
       "      <td>6.81</td>\n",
       "      <td>0.77</td>\n",
       "      <td>40.24</td>\n",
       "    </tr>\n",
       "    <tr>\n",
       "      <th>2</th>\n",
       "      <td>3</td>\n",
       "      <td>Mario Kart Wii</td>\n",
       "      <td>Wii</td>\n",
       "      <td>2008.0</td>\n",
       "      <td>Racing</td>\n",
       "      <td>Nintendo</td>\n",
       "      <td>15.85</td>\n",
       "      <td>12.88</td>\n",
       "      <td>3.79</td>\n",
       "      <td>3.31</td>\n",
       "      <td>35.82</td>\n",
       "    </tr>\n",
       "    <tr>\n",
       "      <th>3</th>\n",
       "      <td>4</td>\n",
       "      <td>Wii Sports Resort</td>\n",
       "      <td>Wii</td>\n",
       "      <td>2009.0</td>\n",
       "      <td>Sports</td>\n",
       "      <td>Nintendo</td>\n",
       "      <td>15.75</td>\n",
       "      <td>11.01</td>\n",
       "      <td>3.28</td>\n",
       "      <td>2.96</td>\n",
       "      <td>33.00</td>\n",
       "    </tr>\n",
       "    <tr>\n",
       "      <th>4</th>\n",
       "      <td>5</td>\n",
       "      <td>Pokemon Red/Pokemon Blue</td>\n",
       "      <td>GB</td>\n",
       "      <td>1996.0</td>\n",
       "      <td>Role-Playing</td>\n",
       "      <td>Nintendo</td>\n",
       "      <td>11.27</td>\n",
       "      <td>8.89</td>\n",
       "      <td>10.22</td>\n",
       "      <td>1.00</td>\n",
       "      <td>31.37</td>\n",
       "    </tr>\n",
       "    <tr>\n",
       "      <th>...</th>\n",
       "      <td>...</td>\n",
       "      <td>...</td>\n",
       "      <td>...</td>\n",
       "      <td>...</td>\n",
       "      <td>...</td>\n",
       "      <td>...</td>\n",
       "      <td>...</td>\n",
       "      <td>...</td>\n",
       "      <td>...</td>\n",
       "      <td>...</td>\n",
       "      <td>...</td>\n",
       "    </tr>\n",
       "    <tr>\n",
       "      <th>16592</th>\n",
       "      <td>16596</td>\n",
       "      <td>Woody Woodpecker in Crazy Castle 5</td>\n",
       "      <td>GBA</td>\n",
       "      <td>2002.0</td>\n",
       "      <td>Platform</td>\n",
       "      <td>Kemco</td>\n",
       "      <td>0.01</td>\n",
       "      <td>0.00</td>\n",
       "      <td>0.00</td>\n",
       "      <td>0.00</td>\n",
       "      <td>0.01</td>\n",
       "    </tr>\n",
       "    <tr>\n",
       "      <th>16593</th>\n",
       "      <td>16597</td>\n",
       "      <td>Men in Black II: Alien Escape</td>\n",
       "      <td>GC</td>\n",
       "      <td>2003.0</td>\n",
       "      <td>Shooter</td>\n",
       "      <td>Infogrames</td>\n",
       "      <td>0.01</td>\n",
       "      <td>0.00</td>\n",
       "      <td>0.00</td>\n",
       "      <td>0.00</td>\n",
       "      <td>0.01</td>\n",
       "    </tr>\n",
       "    <tr>\n",
       "      <th>16594</th>\n",
       "      <td>16598</td>\n",
       "      <td>SCORE International Baja 1000: The Official Game</td>\n",
       "      <td>PS2</td>\n",
       "      <td>2008.0</td>\n",
       "      <td>Racing</td>\n",
       "      <td>Activision</td>\n",
       "      <td>0.00</td>\n",
       "      <td>0.00</td>\n",
       "      <td>0.00</td>\n",
       "      <td>0.00</td>\n",
       "      <td>0.01</td>\n",
       "    </tr>\n",
       "    <tr>\n",
       "      <th>16595</th>\n",
       "      <td>16599</td>\n",
       "      <td>Know How 2</td>\n",
       "      <td>DS</td>\n",
       "      <td>2010.0</td>\n",
       "      <td>Puzzle</td>\n",
       "      <td>7G//AMES</td>\n",
       "      <td>0.00</td>\n",
       "      <td>0.01</td>\n",
       "      <td>0.00</td>\n",
       "      <td>0.00</td>\n",
       "      <td>0.01</td>\n",
       "    </tr>\n",
       "    <tr>\n",
       "      <th>16596</th>\n",
       "      <td>16600</td>\n",
       "      <td>Spirits &amp; Spells</td>\n",
       "      <td>GBA</td>\n",
       "      <td>2003.0</td>\n",
       "      <td>Platform</td>\n",
       "      <td>Wanadoo</td>\n",
       "      <td>0.01</td>\n",
       "      <td>0.00</td>\n",
       "      <td>0.00</td>\n",
       "      <td>0.00</td>\n",
       "      <td>0.01</td>\n",
       "    </tr>\n",
       "  </tbody>\n",
       "</table>\n",
       "<p>16334 rows × 11 columns</p>\n",
       "</div>"
      ],
      "text/plain": [
       "        Rank                                              Name Platform  \\\n",
       "0          1                                        Wii Sports      Wii   \n",
       "1          2                                 Super Mario Bros.      NES   \n",
       "2          3                                    Mario Kart Wii      Wii   \n",
       "3          4                                 Wii Sports Resort      Wii   \n",
       "4          5                          Pokemon Red/Pokemon Blue       GB   \n",
       "...      ...                                               ...      ...   \n",
       "16592  16596                Woody Woodpecker in Crazy Castle 5      GBA   \n",
       "16593  16597                     Men in Black II: Alien Escape       GC   \n",
       "16594  16598  SCORE International Baja 1000: The Official Game      PS2   \n",
       "16595  16599                                        Know How 2       DS   \n",
       "16596  16600                                  Spirits & Spells      GBA   \n",
       "\n",
       "         Year         Genre   Publisher  NA_Sales  EU_Sales  JP_Sales  \\\n",
       "0      2006.0        Sports    Nintendo     41.49     29.02      3.77   \n",
       "1      1985.0      Platform    Nintendo     29.08      3.58      6.81   \n",
       "2      2008.0        Racing    Nintendo     15.85     12.88      3.79   \n",
       "3      2009.0        Sports    Nintendo     15.75     11.01      3.28   \n",
       "4      1996.0  Role-Playing    Nintendo     11.27      8.89     10.22   \n",
       "...       ...           ...         ...       ...       ...       ...   \n",
       "16592  2002.0      Platform       Kemco      0.01      0.00      0.00   \n",
       "16593  2003.0       Shooter  Infogrames      0.01      0.00      0.00   \n",
       "16594  2008.0        Racing  Activision      0.00      0.00      0.00   \n",
       "16595  2010.0        Puzzle    7G//AMES      0.00      0.01      0.00   \n",
       "16596  2003.0      Platform     Wanadoo      0.01      0.00      0.00   \n",
       "\n",
       "       Other_Sales  Global_Sales  \n",
       "0             8.46         82.74  \n",
       "1             0.77         40.24  \n",
       "2             3.31         35.82  \n",
       "3             2.96         33.00  \n",
       "4             1.00         31.37  \n",
       "...            ...           ...  \n",
       "16592         0.00          0.01  \n",
       "16593         0.00          0.01  \n",
       "16594         0.00          0.01  \n",
       "16595         0.00          0.01  \n",
       "16596         0.00          0.01  \n",
       "\n",
       "[16334 rows x 11 columns]"
      ]
     },
     "execution_count": 18,
     "metadata": {},
     "output_type": "execute_result"
    }
   ],
   "source": [
    "games_df"
   ]
  },
  {
   "cell_type": "code",
   "execution_count": 19,
   "id": "b262b933",
   "metadata": {
    "ExecuteTime": {
     "end_time": "2023-01-10T15:36:41.724910Z",
     "start_time": "2023-01-10T15:36:41.694889Z"
    }
   },
   "outputs": [],
   "source": [
    "games_df[\"Platform\"].replace(\"DS\", \"Nintendo DS\", inplace=True)\n",
    "games_df[\"Platform\"].replace(\"NES\", \"Nintendo NES\", inplace=True)\n",
    "games_df[\"Platform\"].replace(\"SNES\", \"Super Nintendo\", inplace=True)\n",
    "games_df[\"Platform\"].replace(\"GB\", \"GameBoy Color\", inplace=True)\n",
    "games_df[\"Platform\"].replace(\"3DS\", \"Nintendo 3DS\", inplace=True)\n",
    "games_df[\"Platform\"].replace(\"DC\", \"Dreamcast\", inplace=True)\n",
    "games_df[\"Platform\"].replace(\"GEN\", \"SEGA Genesis\", inplace=True)\n",
    "games_df[\"Platform\"].replace(\"GG\", \"Game Gear\", inplace=True)\n",
    "games_df[\"Platform\"].replace(\"NG\", \"Neo Geo\", inplace=True)\n",
    "games_df[\"Platform\"].replace(\"SAT\", \"Sega Saturn\", inplace=True)\n",
    "games_df[\"Platform\"].replace(\"SCD\", \"Sega CD\", inplace=True)\n",
    "games_df[\"Platform\"].replace(\"TG16\", \"Turbo Grafx\", inplace=True)\n",
    "games_df[\"Platform\"].replace(\"WS\", \"WanderSwan\", inplace=True)\n",
    "games_df[\"Platform\"].replace(\"2600\", \"Atari\", inplace=True)\n",
    "\n",
    "games_df.drop(columns=\"Rank\",inplace=True)\n",
    "\n",
    "#Changing the Name to be more Clear, and remove the column that I not gonna use."
   ]
  },
  {
   "cell_type": "code",
   "execution_count": 20,
   "id": "0256e05a",
   "metadata": {
    "ExecuteTime": {
     "end_time": "2023-01-10T15:36:41.740899Z",
     "start_time": "2023-01-10T15:36:41.726910Z"
    }
   },
   "outputs": [
    {
     "data": {
      "text/html": [
       "<div>\n",
       "<style scoped>\n",
       "    .dataframe tbody tr th:only-of-type {\n",
       "        vertical-align: middle;\n",
       "    }\n",
       "\n",
       "    .dataframe tbody tr th {\n",
       "        vertical-align: top;\n",
       "    }\n",
       "\n",
       "    .dataframe thead th {\n",
       "        text-align: right;\n",
       "    }\n",
       "</style>\n",
       "<table border=\"1\" class=\"dataframe\">\n",
       "  <thead>\n",
       "    <tr style=\"text-align: right;\">\n",
       "      <th></th>\n",
       "      <th>Name</th>\n",
       "      <th>Platform</th>\n",
       "      <th>Year</th>\n",
       "      <th>Genre</th>\n",
       "      <th>Publisher</th>\n",
       "      <th>NA_Sales</th>\n",
       "      <th>EU_Sales</th>\n",
       "      <th>JP_Sales</th>\n",
       "      <th>Other_Sales</th>\n",
       "      <th>Global_Sales</th>\n",
       "    </tr>\n",
       "  </thead>\n",
       "  <tbody>\n",
       "    <tr>\n",
       "      <th>0</th>\n",
       "      <td>Wii Sports</td>\n",
       "      <td>Wii</td>\n",
       "      <td>2006.0</td>\n",
       "      <td>Sports</td>\n",
       "      <td>Nintendo</td>\n",
       "      <td>41.49</td>\n",
       "      <td>29.02</td>\n",
       "      <td>3.77</td>\n",
       "      <td>8.46</td>\n",
       "      <td>82.74</td>\n",
       "    </tr>\n",
       "    <tr>\n",
       "      <th>1</th>\n",
       "      <td>Super Mario Bros.</td>\n",
       "      <td>Nintendo NES</td>\n",
       "      <td>1985.0</td>\n",
       "      <td>Platform</td>\n",
       "      <td>Nintendo</td>\n",
       "      <td>29.08</td>\n",
       "      <td>3.58</td>\n",
       "      <td>6.81</td>\n",
       "      <td>0.77</td>\n",
       "      <td>40.24</td>\n",
       "    </tr>\n",
       "    <tr>\n",
       "      <th>2</th>\n",
       "      <td>Mario Kart Wii</td>\n",
       "      <td>Wii</td>\n",
       "      <td>2008.0</td>\n",
       "      <td>Racing</td>\n",
       "      <td>Nintendo</td>\n",
       "      <td>15.85</td>\n",
       "      <td>12.88</td>\n",
       "      <td>3.79</td>\n",
       "      <td>3.31</td>\n",
       "      <td>35.82</td>\n",
       "    </tr>\n",
       "    <tr>\n",
       "      <th>3</th>\n",
       "      <td>Wii Sports Resort</td>\n",
       "      <td>Wii</td>\n",
       "      <td>2009.0</td>\n",
       "      <td>Sports</td>\n",
       "      <td>Nintendo</td>\n",
       "      <td>15.75</td>\n",
       "      <td>11.01</td>\n",
       "      <td>3.28</td>\n",
       "      <td>2.96</td>\n",
       "      <td>33.00</td>\n",
       "    </tr>\n",
       "    <tr>\n",
       "      <th>4</th>\n",
       "      <td>Pokemon Red/Pokemon Blue</td>\n",
       "      <td>GameBoy Color</td>\n",
       "      <td>1996.0</td>\n",
       "      <td>Role-Playing</td>\n",
       "      <td>Nintendo</td>\n",
       "      <td>11.27</td>\n",
       "      <td>8.89</td>\n",
       "      <td>10.22</td>\n",
       "      <td>1.00</td>\n",
       "      <td>31.37</td>\n",
       "    </tr>\n",
       "  </tbody>\n",
       "</table>\n",
       "</div>"
      ],
      "text/plain": [
       "                       Name       Platform    Year         Genre Publisher  \\\n",
       "0                Wii Sports            Wii  2006.0        Sports  Nintendo   \n",
       "1         Super Mario Bros.   Nintendo NES  1985.0      Platform  Nintendo   \n",
       "2            Mario Kart Wii            Wii  2008.0        Racing  Nintendo   \n",
       "3         Wii Sports Resort            Wii  2009.0        Sports  Nintendo   \n",
       "4  Pokemon Red/Pokemon Blue  GameBoy Color  1996.0  Role-Playing  Nintendo   \n",
       "\n",
       "   NA_Sales  EU_Sales  JP_Sales  Other_Sales  Global_Sales  \n",
       "0     41.49     29.02      3.77         8.46         82.74  \n",
       "1     29.08      3.58      6.81         0.77         40.24  \n",
       "2     15.85     12.88      3.79         3.31         35.82  \n",
       "3     15.75     11.01      3.28         2.96         33.00  \n",
       "4     11.27      8.89     10.22         1.00         31.37  "
      ]
     },
     "execution_count": 20,
     "metadata": {},
     "output_type": "execute_result"
    }
   ],
   "source": [
    "games_df.head()"
   ]
  },
  {
   "cell_type": "markdown",
   "id": "3b99e12d",
   "metadata": {},
   "source": [
    "### Central Tendency, Dispersion and 5 Number Summary"
   ]
  },
  {
   "cell_type": "code",
   "execution_count": 21,
   "id": "04ad7c07",
   "metadata": {
    "ExecuteTime": {
     "end_time": "2023-01-10T15:36:41.756903Z",
     "start_time": "2023-01-10T15:36:41.742899Z"
    },
    "scrolled": true
   },
   "outputs": [
    {
     "name": "stdout",
     "output_type": "stream",
     "text": [
      "2007.0\n",
      "2006.3994734908779\n",
      "0    2009.0\n",
      "dtype: float64\n"
     ]
    }
   ],
   "source": [
    "meanYear = games_df[\"Year\"].mean()\n",
    "modeYear = games_df[\"Year\"].mode()\n",
    "medianYear = games_df[\"Year\"].median()\n",
    "print(medianYear)\n",
    "print(meanYear)\n",
    "print(modeYear)"
   ]
  },
  {
   "cell_type": "code",
   "execution_count": 45,
   "id": "7a121120",
   "metadata": {
    "ExecuteTime": {
     "end_time": "2023-01-10T15:37:16.849799Z",
     "start_time": "2023-01-10T15:37:16.836807Z"
    }
   },
   "outputs": [
    {
     "name": "stdout",
     "output_type": "stream",
     "text": [
      "0.5417980898739431\n",
      "0.17\n",
      "0    0.02\n",
      "dtype: float64\n"
     ]
    }
   ],
   "source": [
    "meanGlob = games_df[\"Global_Sales\"].mean()\n",
    "modeGlob = games_df[\"Global_Sales\"].mode()\n",
    "medianGlob = games_df[\"Global_Sales\"].median()\n",
    "print(meanGlob)\n",
    "print(medianGlob)\n",
    "print(modeGlob)"
   ]
  },
  {
   "cell_type": "code",
   "execution_count": 24,
   "id": "6dcea7be",
   "metadata": {
    "ExecuteTime": {
     "end_time": "2023-01-10T15:36:41.804913Z",
     "start_time": "2023-01-10T15:36:41.790910Z"
    }
   },
   "outputs": [
    {
     "data": {
      "text/plain": [
       "5.835278628418993"
      ]
     },
     "execution_count": 24,
     "metadata": {},
     "output_type": "execute_result"
    }
   ],
   "source": [
    "games_df['Year'].std()"
   ]
  },
  {
   "cell_type": "code",
   "execution_count": 25,
   "id": "09debcba",
   "metadata": {
    "ExecuteTime": {
     "end_time": "2023-01-10T15:36:41.820916Z",
     "start_time": "2023-01-10T15:36:41.806914Z"
    }
   },
   "outputs": [
    {
     "data": {
      "text/plain": [
       "34.05047667128345"
      ]
     },
     "execution_count": 25,
     "metadata": {},
     "output_type": "execute_result"
    }
   ],
   "source": [
    "games_df['Year'].var()"
   ]
  },
  {
   "cell_type": "code",
   "execution_count": 26,
   "id": "7b9c85b1",
   "metadata": {
    "ExecuteTime": {
     "end_time": "2023-01-10T15:36:41.836919Z",
     "start_time": "2023-01-10T15:36:41.822919Z"
    }
   },
   "outputs": [
    {
     "data": {
      "text/plain": [
       "1.5664910453602057"
      ]
     },
     "execution_count": 26,
     "metadata": {},
     "output_type": "execute_result"
    }
   ],
   "source": [
    "games_df['Global_Sales'].std()"
   ]
  },
  {
   "cell_type": "code",
   "execution_count": 27,
   "id": "dfa16c98",
   "metadata": {
    "ExecuteTime": {
     "end_time": "2023-01-10T15:36:41.852924Z",
     "start_time": "2023-01-10T15:36:41.841923Z"
    }
   },
   "outputs": [
    {
     "data": {
      "text/plain": [
       "2.45389419519371"
      ]
     },
     "execution_count": 27,
     "metadata": {},
     "output_type": "execute_result"
    }
   ],
   "source": [
    "games_df['Global_Sales'].var()"
   ]
  },
  {
   "cell_type": "code",
   "execution_count": 28,
   "id": "c5373760",
   "metadata": {
    "ExecuteTime": {
     "end_time": "2023-01-10T15:36:41.868931Z",
     "start_time": "2023-01-10T15:36:41.853923Z"
    }
   },
   "outputs": [
    {
     "name": "stdout",
     "output_type": "stream",
     "text": [
      "2003.0\n",
      "2007.0\n",
      "2010.0\n"
     ]
    }
   ],
   "source": [
    "quantileYear1 = games_df[\"Year\"].quantile(0.25)\n",
    "print(quantileYear1)\n",
    "quantileYear2 = games_df[\"Year\"].quantile(0.50)\n",
    "print(quantileYear2)\n",
    "quantileYear3 = games_df[\"Year\"].quantile(0.75)\n",
    "print(quantileYear3)"
   ]
  },
  {
   "cell_type": "code",
   "execution_count": 29,
   "id": "1c2346bc",
   "metadata": {
    "ExecuteTime": {
     "end_time": "2023-01-10T15:36:41.884931Z",
     "start_time": "2023-01-10T15:36:41.870928Z"
    }
   },
   "outputs": [
    {
     "name": "stdout",
     "output_type": "stream",
     "text": [
      "0.06\n",
      "0.17\n",
      "0.48\n"
     ]
    }
   ],
   "source": [
    "quantileGlob1 = games_df[\"Global_Sales\"].quantile(0.25)\n",
    "print(quantileGlob1)\n",
    "quantileGlob2 = games_df[\"Global_Sales\"].quantile(0.50)\n",
    "print(quantileGlob2)\n",
    "quantileGlob3 = games_df[\"Global_Sales\"].quantile(0.75)\n",
    "print(quantileGlob3)"
   ]
  },
  {
   "cell_type": "code",
   "execution_count": 30,
   "id": "39a648dc",
   "metadata": {
    "ExecuteTime": {
     "end_time": "2023-01-10T15:36:41.900941Z",
     "start_time": "2023-01-10T15:36:41.886932Z"
    }
   },
   "outputs": [
    {
     "data": {
      "text/plain": [
       "7.0"
      ]
     },
     "execution_count": 30,
     "metadata": {},
     "output_type": "execute_result"
    }
   ],
   "source": [
    "quantileYear1, quantileYear3 = np.percentile(games_df['Year'], [75 ,25])\n",
    "iqr = quantileYear1 - quantileYear3\n",
    "iqr"
   ]
  },
  {
   "cell_type": "code",
   "execution_count": 31,
   "id": "cfb65ea7",
   "metadata": {
    "ExecuteTime": {
     "end_time": "2023-01-10T15:36:41.916940Z",
     "start_time": "2023-01-10T15:36:41.902935Z"
    }
   },
   "outputs": [
    {
     "data": {
      "text/plain": [
       "0.42"
      ]
     },
     "execution_count": 31,
     "metadata": {},
     "output_type": "execute_result"
    }
   ],
   "source": [
    "quantileGlob1, quantileGlob3 = np.percentile(games_df['Global_Sales'], [75 ,25])\n",
    "iqr = quantileGlob1 - quantileGlob3\n",
    "iqr"
   ]
  },
  {
   "cell_type": "code",
   "execution_count": 32,
   "id": "b56cf30e",
   "metadata": {
    "ExecuteTime": {
     "end_time": "2023-01-10T15:36:41.932942Z",
     "start_time": "2023-01-10T15:36:41.918940Z"
    }
   },
   "outputs": [
    {
     "name": "stdout",
     "output_type": "stream",
     "text": [
      "rangeYear 39.0\n"
     ]
    }
   ],
   "source": [
    "print(\"rangeYear\", games_df.Year.max()-games_df.Year.min())"
   ]
  },
  {
   "cell_type": "code",
   "execution_count": 33,
   "id": "1f7879db",
   "metadata": {
    "ExecuteTime": {
     "end_time": "2023-01-10T15:36:41.948944Z",
     "start_time": "2023-01-10T15:36:41.934944Z"
    }
   },
   "outputs": [
    {
     "name": "stdout",
     "output_type": "stream",
     "text": [
      "rangeGlobal_Sales 82.72999999999999\n"
     ]
    }
   ],
   "source": [
    "print(\"rangeGlobal_Sales\", games_df.Global_Sales.max()-games_df.Global_Sales.min())"
   ]
  },
  {
   "cell_type": "code",
   "execution_count": 34,
   "id": "7a4edb23",
   "metadata": {
    "ExecuteTime": {
     "end_time": "2023-01-10T15:36:41.964949Z",
     "start_time": "2023-01-10T15:36:41.950946Z"
    }
   },
   "outputs": [
    {
     "data": {
      "text/plain": [
       "-1.0147905622588844"
      ]
     },
     "execution_count": 34,
     "metadata": {},
     "output_type": "execute_result"
    }
   ],
   "source": [
    "games_df[\"Year\"].skew()"
   ]
  },
  {
   "cell_type": "code",
   "execution_count": 35,
   "id": "6c278f0f",
   "metadata": {
    "ExecuteTime": {
     "end_time": "2023-01-10T15:36:41.980952Z",
     "start_time": "2023-01-10T15:36:41.966953Z"
    }
   },
   "outputs": [
    {
     "data": {
      "text/plain": [
       "17.288035948097253"
      ]
     },
     "execution_count": 35,
     "metadata": {},
     "output_type": "execute_result"
    }
   ],
   "source": [
    "games_df[\"Global_Sales\"].skew()"
   ]
  },
  {
   "cell_type": "code",
   "execution_count": 36,
   "id": "90298a62",
   "metadata": {
    "ExecuteTime": {
     "end_time": "2023-01-10T15:36:41.996956Z",
     "start_time": "2023-01-10T15:36:41.982954Z"
    }
   },
   "outputs": [
    {
     "data": {
      "text/plain": [
       "count    16334.000000\n",
       "mean      2006.399473\n",
       "std          5.835279\n",
       "min       1977.000000\n",
       "25%       2003.000000\n",
       "50%       2007.000000\n",
       "75%       2010.000000\n",
       "max       2016.000000\n",
       "Name: Year, dtype: float64"
      ]
     },
     "execution_count": 36,
     "metadata": {},
     "output_type": "execute_result"
    }
   ],
   "source": [
    "games_df['Year'].describe()"
   ]
  },
  {
   "cell_type": "code",
   "execution_count": 37,
   "id": "34a46c56",
   "metadata": {
    "ExecuteTime": {
     "end_time": "2023-01-10T15:36:42.012960Z",
     "start_time": "2023-01-10T15:36:41.998958Z"
    },
    "scrolled": true
   },
   "outputs": [
    {
     "data": {
      "text/plain": [
       "count    16334.000000\n",
       "mean         0.541798\n",
       "std          1.566491\n",
       "min          0.010000\n",
       "25%          0.060000\n",
       "50%          0.170000\n",
       "75%          0.480000\n",
       "max         82.740000\n",
       "Name: Global_Sales, dtype: float64"
      ]
     },
     "execution_count": 37,
     "metadata": {},
     "output_type": "execute_result"
    }
   ],
   "source": [
    "games_df['Global_Sales'].describe()"
   ]
  },
  {
   "cell_type": "markdown",
   "id": "eda6599b",
   "metadata": {},
   "source": [
    "### First Analise:\n",
    "\n",
    "    In my variable Year, the mean is 2006, the mode is 2009 and the median is 2007.\n",
    "\n",
    "    And in the Variable Global_Sales, the mean is 0.54, the mode 0.02 and the median is 0.17.\n",
    "\n",
    "    Analysing only the mean and median in the variable Year and Global_Sales of my dataset, I already can \n",
    "    deduce in the Variable Year as mean<median and in the Variable Global_Sales as the mean>median I might \n",
    "    have outliers."
   ]
  },
  {
   "cell_type": "markdown",
   "id": "81e6036a",
   "metadata": {},
   "source": [
    "## Plots to show the dispersion in the variables"
   ]
  },
  {
   "cell_type": "code",
   "execution_count": 38,
   "id": "b25dbe90",
   "metadata": {
    "ExecuteTime": {
     "end_time": "2023-01-10T15:36:42.253028Z",
     "start_time": "2023-01-10T15:36:42.014960Z"
    }
   },
   "outputs": [
    {
     "data": {
      "text/plain": [
       "<seaborn.axisgrid.FacetGrid at 0x247329b0820>"
      ]
     },
     "execution_count": 38,
     "metadata": {},
     "output_type": "execute_result"
    },
    {
     "data": {
      "image/png": "[encoded data removed]",
      "text/plain": [
       "<Figure size 360x360 with 1 Axes>"
      ]
     },
     "metadata": {
      "needs_background": "light"
     },
     "output_type": "display_data"
    }
   ],
   "source": [
    "sns.displot(games_df['Year'], kde=True, discrete=True) "
   ]
  },
  {
   "cell_type": "code",
   "execution_count": 39,
   "id": "d3facef9",
   "metadata": {
    "ExecuteTime": {
     "end_time": "2023-01-10T15:36:42.333032Z",
     "start_time": "2023-01-10T15:36:42.255017Z"
    }
   },
   "outputs": [
    {
     "data": {
      "text/plain": [
       "<AxesSubplot:xlabel='Year'>"
      ]
     },
     "execution_count": 39,
     "metadata": {},
     "output_type": "execute_result"
    },
    {
     "data": {
      "image/png": "[encoded data removed]",
      "text/plain": [
       "<Figure size 432x288 with 1 Axes>"
      ]
     },
     "metadata": {
      "needs_background": "light"
     },
     "output_type": "display_data"
    }
   ],
   "source": [
    "sns.boxplot(x=games_df[\"Year\"]) "
   ]
  },
  {
   "cell_type": "code",
   "execution_count": 40,
   "id": "278ebeda",
   "metadata": {
    "ExecuteTime": {
     "end_time": "2023-01-10T15:36:42.349037Z",
     "start_time": "2023-01-10T15:36:42.334034Z"
    }
   },
   "outputs": [
    {
     "data": {
      "text/plain": [
       "-1.0147905622588844"
      ]
     },
     "execution_count": 40,
     "metadata": {},
     "output_type": "execute_result"
    }
   ],
   "source": [
    "games_df[\"Year\"].skew()"
   ]
  },
  {
   "cell_type": "code",
   "execution_count": 41,
   "id": "02a99faa",
   "metadata": {
    "ExecuteTime": {
     "end_time": "2023-01-10T15:36:42.763143Z",
     "start_time": "2023-01-10T15:36:42.350045Z"
    }
   },
   "outputs": [
    {
     "data": {
      "text/plain": [
       "<seaborn.axisgrid.FacetGrid at 0x247329bdb80>"
      ]
     },
     "execution_count": 41,
     "metadata": {},
     "output_type": "execute_result"
    },
    {
     "data": {
      "image/png": "[encoded data removed]",
      "text/plain": [
       "<Figure size 360x360 with 1 Axes>"
      ]
     },
     "metadata": {
      "needs_background": "light"
     },
     "output_type": "display_data"
    }
   ],
   "source": [
    "sns.displot(games_df['Global_Sales'], kde=True, discrete=True) "
   ]
  },
  {
   "cell_type": "code",
   "execution_count": 42,
   "id": "4e3b57ae",
   "metadata": {
    "ExecuteTime": {
     "end_time": "2023-01-10T15:36:42.843155Z",
     "start_time": "2023-01-10T15:36:42.766137Z"
    }
   },
   "outputs": [
    {
     "data": {
      "text/plain": [
       "<AxesSubplot:xlabel='Global_Sales'>"
      ]
     },
     "execution_count": 42,
     "metadata": {},
     "output_type": "execute_result"
    },
    {
     "data": {
      "image/png": "[encoded data removed]",
      "text/plain": [
       "<Figure size 432x288 with 1 Axes>"
      ]
     },
     "metadata": {
      "needs_background": "light"
     },
     "output_type": "display_data"
    }
   ],
   "source": [
    "sns.boxplot(x=games_df[\"Global_Sales\"]) "
   ]
  },
  {
   "cell_type": "code",
   "execution_count": 43,
   "id": "aa18197d",
   "metadata": {
    "ExecuteTime": {
     "end_time": "2023-01-10T15:36:42.859154Z",
     "start_time": "2023-01-10T15:36:42.845147Z"
    }
   },
   "outputs": [
    {
     "data": {
      "text/plain": [
       "17.288035948097253"
      ]
     },
     "execution_count": 43,
     "metadata": {},
     "output_type": "execute_result"
    }
   ],
   "source": [
    "games_df[\"Global_Sales\"].skew()"
   ]
  },
  {
   "cell_type": "code",
   "execution_count": 44,
   "id": "73c16f64",
   "metadata": {
    "ExecuteTime": {
     "end_time": "2023-01-10T15:36:42.875156Z",
     "start_time": "2023-01-10T15:36:42.861153Z"
    }
   },
   "outputs": [
    {
     "data": {
      "text/plain": [
       "Name            0\n",
       "Platform        0\n",
       "Year            0\n",
       "Genre           0\n",
       "Publisher       0\n",
       "NA_Sales        0\n",
       "EU_Sales        0\n",
       "JP_Sales        0\n",
       "Other_Sales     0\n",
       "Global_Sales    0\n",
       "dtype: int64"
      ]
     },
     "execution_count": 44,
     "metadata": {},
     "output_type": "execute_result"
    }
   ],
   "source": [
    "games_df.isnull().sum()"
   ]
  },
  {
   "cell_type": "markdown",
   "id": "0d6875eb",
   "metadata": {},
   "source": [
    "### Analysis of Variables Picked\n",
    "\n",
    "    The variable “Year” as previously calculated has a Negative Skew distribution as the central tendency\n",
    "    measures are different and mean<median.\n",
    "\n",
    "    And the Variable “Global_Sales” as previously calculated has a Positive Skew distribution, as the central \n",
    "    tendency measures are different and mean>median.\n"
   ]
  },
  {
   "cell_type": "code",
   "execution_count": 47,
   "id": "d456c2e6",
   "metadata": {
    "ExecuteTime": {
     "end_time": "2023-01-10T15:44:26.062346Z",
     "start_time": "2023-01-10T15:44:26.053332Z"
    }
   },
   "outputs": [
    {
     "name": "stdout",
     "output_type": "stream",
     "text": [
      "2007.0\n",
      "2006.3994734908779\n",
      "0    2009.0\n",
      "dtype: float64\n"
     ]
    }
   ],
   "source": [
    "meanYear = games_df[\"Year\"].mean()\n",
    "modeYear = games_df[\"Year\"].mode()\n",
    "medianYear = games_df[\"Year\"].median()\n",
    "print(medianYear)\n",
    "print(meanYear)\n",
    "print(modeYear)"
   ]
  },
  {
   "cell_type": "code",
   "execution_count": 48,
   "id": "afd03a7c",
   "metadata": {
    "ExecuteTime": {
     "end_time": "2023-01-10T16:11:57.794235Z",
     "start_time": "2023-01-10T16:11:57.782150Z"
    }
   },
   "outputs": [
    {
     "data": {
      "text/plain": [
       "-1.0147905622588844"
      ]
     },
     "execution_count": 48,
     "metadata": {},
     "output_type": "execute_result"
    }
   ],
   "source": [
    "games_df[\"Year\"].skew()"
   ]
  },
  {
   "cell_type": "code",
   "execution_count": 49,
   "id": "05505207",
   "metadata": {
    "ExecuteTime": {
     "end_time": "2023-01-10T16:12:23.157360Z",
     "start_time": "2023-01-10T16:12:23.148886Z"
    }
   },
   "outputs": [
    {
     "name": "stdout",
     "output_type": "stream",
     "text": [
      "0.5417980898739431\n",
      "0.17\n",
      "0    0.02\n",
      "dtype: float64\n"
     ]
    }
   ],
   "source": [
    "meanGlob = games_df[\"Global_Sales\"].mean()\n",
    "modeGlob = games_df[\"Global_Sales\"].mode()\n",
    "medianGlob = games_df[\"Global_Sales\"].median()\n",
    "print(meanGlob)\n",
    "print(medianGlob)\n",
    "print(modeGlob)"
   ]
  },
  {
   "cell_type": "code",
   "execution_count": 50,
   "id": "4d1d127f",
   "metadata": {
    "ExecuteTime": {
     "end_time": "2023-01-10T16:12:47.880930Z",
     "start_time": "2023-01-10T16:12:47.868014Z"
    }
   },
   "outputs": [
    {
     "data": {
      "text/plain": [
       "17.288035948097253"
      ]
     },
     "execution_count": 50,
     "metadata": {},
     "output_type": "execute_result"
    }
   ],
   "source": [
    "games_df[\"Global_Sales\"].skew()"
   ]
  },
  {
   "cell_type": "code",
   "execution_count": 58,
   "id": "0319fcc8",
   "metadata": {
    "ExecuteTime": {
     "end_time": "2023-01-10T16:18:21.541148Z",
     "start_time": "2023-01-10T16:18:20.900383Z"
    }
   },
   "outputs": [
    {
     "data": {
      "text/plain": [
       "<seaborn.axisgrid.FacetGrid at 0x24734b54580>"
      ]
     },
     "execution_count": 58,
     "metadata": {},
     "output_type": "execute_result"
    },
    {
     "data": {
      "image/png": "[encoded data removed]",
      "text/plain": [
       "<Figure size 360x360 with 1 Axes>"
      ]
     },
     "metadata": {
      "needs_background": "light"
     },
     "output_type": "display_data"
    },
    {
     "data": {
      "image/png": "[encoded data removed]",
      "text/plain": [
       "<Figure size 360x360 with 1 Axes>"
      ]
     },
     "metadata": {
      "needs_background": "light"
     },
     "output_type": "display_data"
    }
   ],
   "source": [
    "sns.displot(games_df['Global_Sales'], kde=True, discrete=True)\n",
    "sns.displot(games_df['Year'], kde=True, discrete=True) "
   ]
  },
  {
   "cell_type": "markdown",
   "id": "8357d194",
   "metadata": {},
   "source": [
    "    As both variables do not follow a symmetrical distribution but follows a Positive and Negative Skew, we can \n",
    "    conclude that is consequences of outliers in the Variables picked."
   ]
  },
  {
   "cell_type": "code",
   "execution_count": 67,
   "id": "3e5ecd89",
   "metadata": {
    "ExecuteTime": {
     "end_time": "2023-01-10T16:32:20.301734Z",
     "start_time": "2023-01-10T16:32:19.840523Z"
    }
   },
   "outputs": [
    {
     "data": {
      "image/png": "[encoded data removed]",
      "text/plain": [
       "<Figure size 360x360 with 1 Axes>"
      ]
     },
     "metadata": {
      "needs_background": "light"
     },
     "output_type": "display_data"
    },
    {
     "data": {
      "image/png": "[encoded data removed]",
      "text/plain": [
       "<Figure size 360x360 with 1 Axes>"
      ]
     },
     "metadata": {
      "needs_background": "light"
     },
     "output_type": "display_data"
    }
   ],
   "source": [
    "axes1 = sns.displot(games_df['Year'], kde=True, discrete=True)\n",
    "axes2 = sns.boxplot(x=games_df[\"Year\"])\n",
    "axes3 = sns.boxplot(x=games_df[\"Global_Sales\"])\n",
    "axes4 = sns.displot(games_df['Year'], kde=True, discrete=True)"
   ]
  },
  {
   "cell_type": "code",
   "execution_count": 83,
   "id": "65aaee3e",
   "metadata": {
    "ExecuteTime": {
     "end_time": "2023-01-10T16:49:07.802845Z",
     "start_time": "2023-01-10T16:49:07.123059Z"
    }
   },
   "outputs": [
    {
     "data": {
      "text/plain": [
       "<AxesSubplot:xlabel='Global_Sales', ylabel='Count'>"
      ]
     },
     "execution_count": 83,
     "metadata": {},
     "output_type": "execute_result"
    },
    {
     "data": {
      "image/png": "[encoded data removed]",
      "text/plain": [
       "<Figure size 1296x720 with 4 Axes>"
      ]
     },
     "metadata": {
      "needs_background": "light"
     },
     "output_type": "display_data"
    }
   ],
   "source": [
    "fig, axes = plt.subplots(2, 2, figsize=(18, 10))\n",
    " \n",
    "fig.suptitle('Geeksforgeeks - 2 x 3 axes Box plot with data')\n",
    " \n",
    "games_plot = games_df\n",
    " \n",
    "sns.histplot(ax=axes[0, 0], data=games_plot, x='Year', kde=True, discrete=True)\n",
    "sns.boxplot(ax=axes[0, 1], data=games_plot, x='Year')\n",
    "sns.boxplot(ax=axes[1, 0], data=games_plot, x='Global_Sales')\n",
    "sns.histplot(ax=axes[1, 1], data=games_plot, x='Global_Sales', kde=True, discrete=True)\n"
   ]
  },
  {
   "cell_type": "markdown",
   "id": "08b849e8",
   "metadata": {},
   "source": [
    "## Conclusion\n",
    "    As a result of this report, we were able to conclude that descriptive statistics is a summary statistic that \n",
    "    quantitatively describes or summarizes characteristics of a collection of information, while descriptive \n",
    "    statistics is the process of using and analysing these statistics through Measures of Frequency, Measures of \n",
    "    Central Tendency, Measures of Dispersion or Variation, Measures of Position."
   ]
  },
  {
   "cell_type": "markdown",
   "id": "d60e560b",
   "metadata": {},
   "source": [
    "## References"
   ]
  },
  {
   "cell_type": "markdown",
   "id": "0c0aa021",
   "metadata": {},
   "source": [
    "Works Cited\n",
    "[1] Academy, Khan. “Shapes of Distributions (Video).” Khan Academy, 12 Feb. 2015, \n",
    "www.khanacademy.org/math/cc-sixth-grade-math/cc-6th-data-statistics/cc-6-shape-of\u0002data/v/shapes-of-distributions. Accessed 16 Mar. 2022.\n",
    "\n",
    "[2] ACCENTURE. “Global Gaming Industry Value Now Exceeds $300 Billion, New Accenture \n",
    "Report Finds.” Newsroom.accenture.com, Accenture, 29 Apr. 2021, \n",
    "newsroom.accenture.com/news/global-gaming-industry-value-now-exceeds-300-billion\u0002new-accenture-report-finds.htm. Accessed 13 Mar. 2022.\n",
    "\n",
    "[3] Kaur P, Stoltzfus J, Yellapu V. “Descriptive Statistics. Int J Acad Med.” IJAM - International \n",
    "Journal of Academic Medicine, 2018, www.ijam-web.org/text.asp?2018/4/1/60/230853. \n",
    "Accessed 8 Mar. 2022.\n",
    "\n",
    "[4] Manikandan, S. “Measures of Central Tendency: Median and Mode.” Journal of Pharmacology \n",
    "and Pharmacotherapeutics, vol. 2, no. 3, 2011, p. 214, \n",
    "www.ncbi.nlm.nih.gov/pmc/articles/PMC3157145/, 10.4103/0976-500x.83300. Accessed \n",
    "19 Nov. 2019.\n",
    "\n",
    "[5] McCluskey, Anthony, and Abdul Ghaaliq Lalkhen. “Statistics II: Central Tendency and Spread \n",
    "of Data.” Continuing Education in Anaesthesia Critical Care & Pain, vol. 7, no. 4, Aug. \n",
    "2007, pp. 127–130, www.bjaed.org/action/showPdf?pii=S1743-1816%2817%2930353-0, \n",
    "10.1093/bjaceaccp/mkm020. Accessed 8 Mar. 2022.\n",
    "\n",
    "[6] Statistics intro: Mean, median, & mode. “Statistics Intro: Mean, Median, & Mode.” Khan \n",
    "Academy, 2019, www.khanacademy.org/math/ap-statistics/summarizing-quantitative-data-\n",
    "ap/measuring-center-quantitative/v/statistics-intro-mean-median-and-mode. Accessed 8 \n",
    "Mar. 2022.\n",
    "\n",
    "[7] Stephanie. “Bimodal Distribution.” Statistics How To., 29 July 2013, \n",
    "www.statisticshowto.com/what-is-a-bimodal\u0002distribution/#:~:text=The%20%E2%80%9Cmode%E2%80%9D%20in%20bimodal%20distr\n",
    "ibution. Accessed 8 Mar. 2022."
   ]
  }
 ],
 "metadata": {
  "kernelspec": {
   "display_name": "Python 3 (ipykernel)",
   "language": "python",
   "name": "python3"
  },
  "language_info": {
   "codemirror_mode": {
    "name": "ipython",
    "version": 3
   },
   "file_extension": ".py",
   "mimetype": "text/x-python",
   "name": "python",
   "nbconvert_exporter": "python",
   "pygments_lexer": "ipython3",
   "version": "3.9.7"
  },
  "toc": {
   "base_numbering": 1,
   "nav_menu": {},
   "number_sections": false,
   "sideBar": true,
   "skip_h1_title": false,
   "title_cell": "Table of Contents",
   "title_sidebar": "Contents",
   "toc_cell": false,
   "toc_position": {},
   "toc_section_display": true,
   "toc_window_display": false
  },
  "varInspector": {
   "cols": {
    "lenName": 16,
    "lenType": 16,
    "lenVar": 40
   },
   "kernels_config": {
    "python": {
     "delete_cmd_postfix": "",
     "delete_cmd_prefix": "del ",
     "library": "var_list.py",
     "varRefreshCmd": "print(var_dic_list())"
    },
    "r": {
     "delete_cmd_postfix": ") ",
     "delete_cmd_prefix": "rm(",
     "library": "var_list.r",
     "varRefreshCmd": "cat(var_dic_list()) "
    }
   },
   "types_to_exclude": [
    "module",
    "function",
    "builtin_function_or_method",
    "instance",
    "_Feature"
   ],
   "window_display": false
  }
 },
 "nbformat": 4,
 "nbformat_minor": 5
}
